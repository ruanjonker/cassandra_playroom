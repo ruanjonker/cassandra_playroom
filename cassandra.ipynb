{
 "cells": [
  {
   "cell_type": "code",
   "execution_count": 18,
   "metadata": {},
   "outputs": [],
   "source": [
    "from cassandra.cluster import Cluster\n",
    "\n",
    "cluster = Cluster(['127.0.0.1'], port=9042)\n",
    "session = cluster.connect()\n"
   ]
  },
  {
   "cell_type": "code",
   "execution_count": 23,
   "metadata": {},
   "outputs": [
    {
     "ename": "AlreadyExists",
     "evalue": "Keyspace 'statements' already exists",
     "output_type": "error",
     "traceback": [
      "\u001b[0;31m---------------------------------------------------------------------------\u001b[0m",
      "\u001b[0;31mAlreadyExists\u001b[0m                             Traceback (most recent call last)",
      "Cell \u001b[0;32mIn[23], line 7\u001b[0m\n\u001b[1;32m      1\u001b[0m create_keyspace \u001b[38;5;241m=\u001b[39m \u001b[38;5;124m\"\"\"\u001b[39m\n\u001b[1;32m      2\u001b[0m \u001b[38;5;124mcreate keyspace statements with\u001b[39m\n\u001b[1;32m      3\u001b[0m \u001b[38;5;124m    replication = \u001b[39m\u001b[38;5;124m{\u001b[39m\u001b[38;5;124m'\u001b[39m\u001b[38;5;124mclass\u001b[39m\u001b[38;5;124m'\u001b[39m\u001b[38;5;124m: \u001b[39m\u001b[38;5;124m'\u001b[39m\u001b[38;5;124mNetworkTopologyStrategy\u001b[39m\u001b[38;5;124m'\u001b[39m\u001b[38;5;124m, \u001b[39m\u001b[38;5;124m'\u001b[39m\u001b[38;5;124mDC1\u001b[39m\u001b[38;5;124m'\u001b[39m\u001b[38;5;124m: 3}\u001b[39m\n\u001b[1;32m      4\u001b[0m \u001b[38;5;124mAND\u001b[39m\n\u001b[1;32m      5\u001b[0m \u001b[38;5;124m    durable_writes = true;\u001b[39m\n\u001b[1;32m      6\u001b[0m \u001b[38;5;124m\"\"\"\u001b[39m\n\u001b[0;32m----> 7\u001b[0m \u001b[43msession\u001b[49m\u001b[38;5;241;43m.\u001b[39;49m\u001b[43mexecute\u001b[49m\u001b[43m(\u001b[49m\u001b[43mcreate_keyspace\u001b[49m\u001b[43m)\u001b[49m\n\u001b[1;32m      9\u001b[0m session\u001b[38;5;241m.\u001b[39mexecute(\u001b[38;5;124m\"\u001b[39m\u001b[38;5;124mUSE statements\u001b[39m\u001b[38;5;124m\"\u001b[39m)\n",
      "File \u001b[0;32m~/play/cassandra/.venv/lib/python3.12/site-packages/cassandra/cluster.py:2677\u001b[0m, in \u001b[0;36mcassandra.cluster.Session.execute\u001b[0;34m()\u001b[0m\n",
      "File \u001b[0;32m~/play/cassandra/.venv/lib/python3.12/site-packages/cassandra/cluster.py:4956\u001b[0m, in \u001b[0;36mcassandra.cluster.ResponseFuture.result\u001b[0;34m()\u001b[0m\n",
      "\u001b[0;31mAlreadyExists\u001b[0m: Keyspace 'statements' already exists"
     ]
    }
   ],
   "source": [
    "\n",
    "create_keyspace = \"\"\"\n",
    "create keyspace statements with\n",
    "    replication = {'class': 'NetworkTopologyStrategy', 'DC1': 3}\n",
    "AND\n",
    "    durable_writes = true;\n",
    "\"\"\"\n",
    "session.execute(create_keyspace)\n"
   ]
  },
  {
   "cell_type": "code",
   "execution_count": 27,
   "metadata": {},
   "outputs": [
    {
     "data": {
      "text/plain": [
       "<cassandra.cluster.ResultSet at 0x1124a25d0>"
      ]
     },
     "execution_count": 27,
     "metadata": {},
     "output_type": "execute_result"
    }
   ],
   "source": [
    "session.execute(\"USE statements\")\n",
    "\n",
    "create_property_statements_table = \"\"\"\n",
    "create table property_statements (\n",
    "    id varchar,\n",
    "    observation_id varchar,\n",
    "    created_at timestamp,\n",
    "    updated_at timestamp,\n",
    "    property_name varchar,\n",
    "    property_type varchar,\n",
    "    property_value_varchar varchar,\n",
    "    property_value_blob blob,\n",
    "    property_value_int bigint,\n",
    "    property_value_float double,\n",
    "    property_value_bool boolean,\n",
    "    property_value_datetime timestamp,\n",
    "    property_value_uuid uuid,\n",
    "    primary key (id)\n",
    ");\n",
    "\"\"\"\n",
    "session.execute(create_property_statements_table)"
   ]
  },
  {
   "cell_type": "code",
   "execution_count": 34,
   "metadata": {},
   "outputs": [
    {
     "data": {
      "text/plain": [
       "<cassandra.cluster.ResultSet at 0x112a0d190>"
      ]
     },
     "execution_count": 34,
     "metadata": {},
     "output_type": "execute_result"
    }
   ],
   "source": [
    "session.execute(\"USE statements\")\n",
    "\n",
    "create_observation_statements_table = \"\"\"\n",
    "create table observation_statements (\n",
    "    id varchar,\n",
    "    created_at timestamp,\n",
    "    updated_at timestamp,\n",
    "    statement_type varchar,\n",
    "    statement_id varchar,\n",
    "    primary key (id)\n",
    ");\n",
    "\"\"\"\n",
    "session.execute(create_observation_statements_table)"
   ]
  },
  {
   "cell_type": "code",
   "execution_count": 35,
   "metadata": {},
   "outputs": [
    {
     "data": {
      "text/plain": [
       "<cassandra.cluster.ResultSet at 0x10d43df40>"
      ]
     },
     "execution_count": 35,
     "metadata": {},
     "output_type": "execute_result"
    }
   ],
   "source": [
    "session.execute(\"USE statements\")\n",
    "\n",
    "create_observation_statements_statement_id_index = \"\"\"\n",
    "create index observation_statements_statement_id_index on observation_statements (statement_id);\n",
    "\"\"\"\n",
    "\n",
    "session.execute(create_observation_statements_statement_id_index)"
   ]
  },
  {
   "cell_type": "code",
   "execution_count": 36,
   "metadata": {},
   "outputs": [
    {
     "data": {
      "text/plain": [
       "<cassandra.cluster.ResultSet at 0x112a0d760>"
      ]
     },
     "execution_count": 36,
     "metadata": {},
     "output_type": "execute_result"
    }
   ],
   "source": [
    "session.execute(\"USE statements\")\n",
    "\n",
    "create_observation_statements_statement_type_index = \"\"\"\n",
    "create index observation_statements_statement_type_index on observation_statements (statement_type);\n",
    "\"\"\"\n",
    "\n",
    "session.execute(create_observation_statements_statement_type_index)"
   ]
  },
  {
   "cell_type": "code",
   "execution_count": 29,
   "metadata": {},
   "outputs": [
    {
     "data": {
      "text/plain": [
       "<cassandra.cluster.ResultSet at 0x1129973e0>"
      ]
     },
     "execution_count": 29,
     "metadata": {},
     "output_type": "execute_result"
    }
   ],
   "source": [
    "session.execute(\"USE statements\")\n",
    "\n",
    "create_property_statements_observation_id_index = \"\"\"\n",
    "create index property_statements_observation_id_index on property_statements (observation_id);\n",
    "\"\"\"\n",
    "\n",
    "session.execute(create_property_statements_observation_id_index)"
   ]
  },
  {
   "cell_type": "code",
   "execution_count": 30,
   "metadata": {},
   "outputs": [
    {
     "data": {
      "text/plain": [
       "<cassandra.cluster.ResultSet at 0x112a3b050>"
      ]
     },
     "execution_count": 30,
     "metadata": {},
     "output_type": "execute_result"
    }
   ],
   "source": [
    "session.execute(\"USE statements\")\n",
    "\n",
    "create_property_statements_property_name_index = \"\"\"\n",
    "create index property_statements_property_name_index on property_statements (property_name);\n",
    "\"\"\"\n",
    "\n",
    "session.execute(create_property_statements_property_name_index)"
   ]
  },
  {
   "cell_type": "code",
   "execution_count": 32,
   "metadata": {},
   "outputs": [],
   "source": [
    "def insert_observation_statement(id: str, created_at: str, statement_type: str, statement_id: str):\n",
    "    \n",
    "    return (f\"\"\"\n",
    "        INSERT INTO observation_statements (id, created_at, updated_at, statement_type, statement_id)\n",
    "        VALUES (%s, %s, %s, %s, %s)\n",
    "    \"\"\",\n",
    "    (id, created_at, created_at, statement_type, statement_id))\n",
    "\n",
    "def insert_property_statement(id: str, observation_id: str, created_at: str, property_name: str, property_type:str, property_value: any):\n",
    "    \n",
    "    return (f\"\"\"\n",
    "        INSERT INTO property_statements (id, observation_id, created_at, updated_at, property_name, property_type, property_value_{property_type})\n",
    "        VALUES (%s, %s, %s, %s, %s, %s, %s)\n",
    "    \"\"\",\n",
    "    (id, observation_id, created_at, created_at, property_name, property_type, property_value))"
   ]
  },
  {
   "cell_type": "code",
   "execution_count": 33,
   "metadata": {},
   "outputs": [],
   "source": [
    "import uuid\n",
    "from datetime import datetime, timezone\n",
    "import random\n",
    "\n",
    "session.execute(\"USE statements\")\n",
    "\n",
    "for i in range(10000):\n",
    "    current_datetime = datetime.now(timezone.utc)\n",
    "    formatted_datetime = current_datetime.strftime('%Y-%m-%dT%H:%M:%S.') + current_datetime.strftime('%f')[:3] + '+0000'\n",
    "\n",
    "    property_names = ['first_name', 'last_name', 'email', 'phone_number', 'address', 'city', 'state', 'zip_code', 'country', 'age', 'date_of_birth', 'is_active', 'trust_score']\n",
    "\n",
    "    property_types_and_values = {\n",
    "        'first_name': ('varchar', 'John'),\n",
    "        'last_name': ('varchar', 'Doe'),\n",
    "        'email': ('varchar', 'john@someemail.com'),\n",
    "        'phone_number': ('varchar', '123-456-7890'),\n",
    "        'address': ('varchar', '123 Main St'),\n",
    "        'city': ('varchar', 'Springfield'),\n",
    "        'state': ('varchar', 'IL'),\n",
    "        'zip_code': ('varchar', '62701'),\n",
    "        'country': ('varchar', 'USA'),\n",
    "        'age': ('int', 30),\n",
    "        'date_of_birth': ('datetime', '1978-11-22T00:00:00.000+0000'),\n",
    "        'is_active': ('bool', True),\n",
    "        'trust_score': ('float', 0.95)\n",
    "    }\n",
    "\n",
    "    property_name = random.choice(property_names)\n",
    "\n",
    "    property_type, property_value = property_types_and_values[property_name]\n",
    "\n",
    "    session.execute(insert_property_statement(f\"{uuid.uuid4()}\", f\"{uuid.uuid4()}\", formatted_datetime, property_name, property_type, property_value))"
   ]
  }
 ],
 "metadata": {
  "kernelspec": {
   "display_name": ".venv",
   "language": "python",
   "name": "python3"
  },
  "language_info": {
   "codemirror_mode": {
    "name": "ipython",
    "version": 3
   },
   "file_extension": ".py",
   "mimetype": "text/x-python",
   "name": "python",
   "nbconvert_exporter": "python",
   "pygments_lexer": "ipython3",
   "version": "3.12.4"
  }
 },
 "nbformat": 4,
 "nbformat_minor": 2
}
