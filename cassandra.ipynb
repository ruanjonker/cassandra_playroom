{
 "cells": [
  {
   "cell_type": "code",
   "execution_count": 21,
   "metadata": {},
   "outputs": [],
   "source": [
    "from cassandra.cluster import Cluster\n",
    "import random\n",
    "\n",
    "nodes = {\n",
    "    'cassandra1': ('127.0.0.1', 9042),\n",
    "    'cassandra2': ('127.0.0.1', 9043),\n",
    "    'cassandra3': ('127.0.0.1', 9044),\n",
    "}\n",
    "\n",
    "def random_node():\n",
    "    return random.choice(list(nodes.keys()))\n",
    "\n",
    "def connect_to_cassandra(node):\n",
    "    return Cluster([nodes[node][0]], port=nodes[node][1]).connect()\n",
    "\n",
    "def create_keyspace():\n",
    "    session = connect_to_cassandra(random_node())\n",
    "\n",
    "    ### Create keyspace\n",
    "    create_keyspace = \"\"\"\n",
    "create keyspace if not exists statements with\n",
    "    replication = {'class': 'NetworkTopologyStrategy', 'DC1': 3}\n",
    "AND\n",
    "    durable_writes = true;\n",
    "\"\"\"\n",
    "    session.execute(create_keyspace)\n",
    "\n",
    "    ### Create tables\n",
    "    session.execute(\"USE statements\")\n",
    "\n",
    "    create_property_statements_table = \"\"\"\n",
    "create table if not exists property_statements (\n",
    "    id varchar,\n",
    "    observation_id varchar,\n",
    "    created_at timestamp,\n",
    "    updated_at timestamp,\n",
    "    property_name varchar,\n",
    "    property_type varchar,\n",
    "    property_value_varchar varchar,\n",
    "    property_value_blob blob,\n",
    "    property_value_int bigint,\n",
    "    property_value_float double,\n",
    "    property_value_bool boolean,\n",
    "    property_value_datetime timestamp,\n",
    "    property_value_uuid uuid,\n",
    "    primary key (id)\n",
    ") WITH compaction = {\n",
    "    'class' : 'org.apache.cassandra.db.compaction.SizeTieredCompactionStrategy',\n",
    "    'only_purge_repaired_tombstones' : 'true'\n",
    "};\n",
    "\"\"\"\n",
    "    session.execute(create_property_statements_table)\n",
    "\n",
    "    ## Create observation_id index\n",
    "    create_property_statements_observation_id_index = \"\"\"\n",
    "create index property_statements_observation_id_index on \n",
    "property_statements (observation_id);\n",
    "\"\"\"\n",
    "\n",
    "    ## Create property_name index\n",
    "    session.execute(create_property_statements_observation_id_index)\n",
    "\n",
    "    create_property_statements_property_name_index = \"\"\"\n",
    "create index property_statements_property_name_index on property_statements (property_name);\n",
    "\"\"\"\n",
    "\n",
    "    session.execute(create_property_statements_property_name_index)\n",
    "\n",
    "def nuke_keyspace():\n",
    "    session = connect_to_cassandra(random_node())\n",
    "\n",
    "    nuke_keyspace = \"drop keyspace if exists statements;\"\n",
    "    session.execute(nuke_keyspace)\n",
    "\n",
    "def insert_property_statement(id: str, observation_id: str, created_at: str, property_name: str, property_type:str, property_value: any):\n",
    "    \n",
    "    return (f\"\"\"\n",
    "        INSERT INTO property_statements (id, observation_id, created_at, updated_at, property_name, property_type, property_value_{property_type})\n",
    "        VALUES (%s, %s, %s, %s, %s, %s, %s)\n",
    "    \"\"\",\n",
    "    (id, observation_id, created_at, created_at, property_name, property_type, property_value))"
   ]
  },
  {
   "cell_type": "markdown",
   "metadata": {},
   "source": [
    "# Create the keyspace"
   ]
  },
  {
   "cell_type": "code",
   "execution_count": 24,
   "metadata": {},
   "outputs": [],
   "source": [
    "create_keyspace()"
   ]
  },
  {
   "cell_type": "markdown",
   "metadata": {},
   "source": [
    "# Nuke the keyspace"
   ]
  },
  {
   "cell_type": "code",
   "execution_count": 23,
   "metadata": {},
   "outputs": [],
   "source": [
    "nuke_keyspace()"
   ]
  },
  {
   "cell_type": "markdown",
   "metadata": {},
   "source": [
    "# Insert some random data"
   ]
  },
  {
   "cell_type": "code",
   "execution_count": 26,
   "metadata": {},
   "outputs": [],
   "source": [
    "import uuid\n",
    "from datetime import datetime, timezone\n",
    "from cassandra.cluster import ConsistencyLevel\n",
    "from cassandra.query import SimpleStatement\n",
    "\n",
    "session = connect_to_cassandra(random_node())\n",
    "session.execute(\"USE statements;\")\n",
    "\n",
    "for i in range(1000):\n",
    "    current_datetime = datetime.now(timezone.utc)\n",
    "    formatted_datetime = current_datetime.strftime('%Y-%m-%dT%H:%M:%S.') + current_datetime.strftime('%f')[:3] + '+0000'\n",
    "\n",
    "    property_names = ['first_name', 'last_name', 'email', 'phone_number', 'address', 'city', 'state', 'zip_code', 'country', 'age', 'date_of_birth', 'is_active', 'trust_score']\n",
    "\n",
    "    property_types_and_values = {\n",
    "        'first_name': ('varchar', 'John'),\n",
    "        'last_name': ('varchar', 'Doe'),\n",
    "        'email': ('varchar', 'john@someemail.com'),\n",
    "        'phone_number': ('varchar', '123-456-7890'),\n",
    "        'address': ('varchar', '123 Main St'),\n",
    "        'city': ('varchar', 'Springfield'),\n",
    "        'state': ('varchar', 'IL'),\n",
    "        'zip_code': ('varchar', '62701'),\n",
    "        'country': ('varchar', 'USA'),\n",
    "        'age': ('int', 30),\n",
    "        'date_of_birth': ('datetime', '1978-11-22T00:00:00.000+0000'),\n",
    "        'is_active': ('bool', True),\n",
    "        'trust_score': ('float', 0.95)\n",
    "    }\n",
    "\n",
    "    property_name = random.choice(property_names)\n",
    "\n",
    "    property_type, property_value = property_types_and_values[property_name]\n",
    "\n",
    "    cql, params = insert_property_statement(f\"{uuid.uuid4()}\", f\"{uuid.uuid4()}\", formatted_datetime, property_name, property_type, property_value)\n",
    "\n",
    "    statement = SimpleStatement(\n",
    "        query_string=cql,\n",
    "        consistency_level=ConsistencyLevel.LOCAL_QUORUM,\n",
    "        is_idempotent=True\n",
    "    )\n",
    "\n",
    "    session.execute(statement, params)"
   ]
  }
 ],
 "metadata": {
  "kernelspec": {
   "display_name": ".venv",
   "language": "python",
   "name": "python3"
  },
  "language_info": {
   "codemirror_mode": {
    "name": "ipython",
    "version": 3
   },
   "file_extension": ".py",
   "mimetype": "text/x-python",
   "name": "python",
   "nbconvert_exporter": "python",
   "pygments_lexer": "ipython3",
   "version": "3.12.4"
  }
 },
 "nbformat": 4,
 "nbformat_minor": 2
}
